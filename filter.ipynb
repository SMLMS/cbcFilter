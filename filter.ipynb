{
 "cells": [
  {
   "cell_type": "markdown",
   "metadata": {},
   "source": [
    "# cbcFilter\n",
    "cbcFilter allows you to filter lama cbc files.\n",
    "\n",
    "by\n",
    "\n",
    "Sebastian Malkusch\n",
    "\n",
    "2019-06-05\n",
    "\n",
    "single molecule biophysics,\n",
    "Goethe-University Frankfurt, Germany\n",
    "\n",
    "malkusch@chemie.uni-frankfurt.de\n",
    "\n",
    "www.smb.uni-frankfurt.de\n",
    "\n",
    "http://share.smb.uni-frankfurt.de\n",
    "    \n",
    "https://github.com/SMLMS/locAligner"
   ]
  },
  {
   "cell_type": "code",
   "execution_count": 1,
   "metadata": {},
   "outputs": [
    {
     "name": "stdout",
     "output_type": "stream",
     "text": [
      "Widgets initialized\n"
     ]
    }
   ],
   "source": [
    "from cbcFilter import filterWidgets\n",
    "from cbcFilter import data\n",
    "\n",
    "widgets = filterWidgets.Widgets()\n",
    "cbcData = data.SMLM_dataObject()"
   ]
  },
  {
   "cell_type": "markdown",
   "metadata": {},
   "source": [
    "## Import Data\n",
    "Import the lama localization files (.txt) of the cbc analysis."
   ]
  },
  {
   "cell_type": "code",
   "execution_count": 2,
   "metadata": {},
   "outputs": [
    {
     "data": {
      "application/vnd.jupyter.widget-view+json": {
       "model_id": "4709566960f64039b9ad3422cb2e712d",
       "version_major": 2,
       "version_minor": 0
      },
      "text/plain": [
       "Button(description='load', icon='check', style=ButtonStyle(), tooltip='Click me')"
      ]
     },
     "metadata": {},
     "output_type": "display_data"
    },
    {
     "name": "stdout",
     "output_type": "stream",
     "text": [
      "returning fileName\n",
      "data loaded from: E:/Lehre/Praktikanten/Trung/origin_cbc_roi.txt\n",
      "     x[nm]   y[nm]  t[frame]  cbc[a.u.]\n",
      "0  21663.2  2733.8   439.848  -0.063758\n",
      "1  25451.2  3776.8   792.923  -0.075198\n",
      "2  25358.4  6560.9   675.490   0.000000\n",
      "3  19627.8  6831.8   878.330   0.040428\n",
      "4  19903.7  8193.5   552.600  -0.121406\n"
     ]
    }
   ],
   "source": [
    "display(widgets.loadButton)\n",
    "def loadFiducialLocalizations(event):\n",
    "    widgets.clearOutput()\n",
    "    display(widgets.loadButton)\n",
    "    cbcData.browseFile()\n",
    "    cbcData.updateNames()\n",
    "    cbcData.importData()\n",
    "    print(\"data loaded from: %s\" % (cbcData.fileName))\n",
    "    cbcData.viewData()\n",
    "        \n",
    "widgets.loadButton.on_click(loadFiducialLocalizations)"
   ]
  },
  {
   "cell_type": "markdown",
   "metadata": {},
   "source": [
    "## Filter Fiducials"
   ]
  },
  {
   "cell_type": "code",
   "execution_count": 3,
   "metadata": {},
   "outputs": [
    {
     "data": {
      "application/vnd.jupyter.widget-view+json": {
       "model_id": "20d7afb086a2448fac9456dced880963",
       "version_major": 2,
       "version_minor": 0
      },
      "text/plain": [
       "HBox(children=(BoundedIntText(value=0, description='min x [nm]', max=45000, style=DescriptionStyle(description…"
      ]
     },
     "metadata": {},
     "output_type": "display_data"
    },
    {
     "data": {
      "application/vnd.jupyter.widget-view+json": {
       "model_id": "38e720beafa143daba12326f31188ae9",
       "version_major": 2,
       "version_minor": 0
      },
      "text/plain": [
       "HBox(children=(BoundedIntText(value=0, description='min y [nm]', max=81000, style=DescriptionStyle(description…"
      ]
     },
     "metadata": {},
     "output_type": "display_data"
    },
    {
     "data": {
      "application/vnd.jupyter.widget-view+json": {
       "model_id": "946b83e8e01243b28a95d00ad2cdc7fe",
       "version_major": 2,
       "version_minor": 0
      },
      "text/plain": [
       "HBox(children=(BoundedIntText(value=0, description='min time [frame]', max=1000000, style=DescriptionStyle(des…"
      ]
     },
     "metadata": {},
     "output_type": "display_data"
    },
    {
     "data": {
      "application/vnd.jupyter.widget-view+json": {
       "model_id": "dcd68513219f499889ed2af1d3f7de2d",
       "version_major": 2,
       "version_minor": 0
      },
      "text/plain": [
       "HBox(children=(BoundedFloatText(value=-1.0, description='min cbc [a.u.]', max=1.0, min=-1.0, step=0.01, style=…"
      ]
     },
     "metadata": {},
     "output_type": "display_data"
    },
    {
     "data": {
      "application/vnd.jupyter.widget-view+json": {
       "model_id": "526288e1fc174230babdbfc1e78ba4b6",
       "version_major": 2,
       "version_minor": 0
      },
      "text/plain": [
       "Button(description='Filter Lama data', icon='check', style=ButtonStyle(), tooltip='Click me')"
      ]
     },
     "metadata": {},
     "output_type": "display_data"
    },
    {
     "name": "stdout",
     "output_type": "stream",
     "text": [
      "     x[nm]   y[nm]  t[frame]  cbc[a.u.]\n",
      "0  21663.2  2733.8   439.848  -0.063758\n",
      "1  25451.2  3776.8   792.923  -0.075198\n",
      "2  25358.4  6560.9   675.490   0.000000\n",
      "3  19627.8  6831.8   878.330   0.040428\n",
      "4  19903.7  8193.5   552.600  -0.121406\n"
     ]
    }
   ],
   "source": [
    "display(widgets.x_filter,\n",
    "        widgets.y_filter,\n",
    "        widgets.t_filter,\n",
    "        widgets.cbc_filter,\n",
    "        widgets.filterButton)\n",
    "\n",
    "def filterFiducialDataSet(event):\n",
    "    widgets.clearOutput()\n",
    "    display(widgets.x_filter,\n",
    "            widgets.y_filter,\n",
    "            widgets.t_filter,\n",
    "            widgets.cbc_filter,\n",
    "            widgets.filterButton)\n",
    "    cbcData.filterDataFrame(minX = widgets.min_x_filter_text.value,\n",
    "                            maxX = widgets.max_x_filter_text.value,\n",
    "                            minY = widgets.min_y_filter_text.value,\n",
    "                            maxY = widgets.max_y_filter_text.value,\n",
    "                            minT = widgets.min_t_filter_text.value,\n",
    "                            maxT = widgets.max_t_filter_text.value,\n",
    "                            minCbc = widgets.min_cbc_filter_text.value,\n",
    "                            maxCbc = widgets.max_cbc_filter_text.value\n",
    "                            )\n",
    "    cbcData.viewFilteredData()\n",
    "\n",
    "widgets.filterButton.on_click(filterFiducialDataSet)"
   ]
  },
  {
   "cell_type": "markdown",
   "metadata": {},
   "source": [
    "## Plot filtered data\n",
    "plot the distribution of the filtered data"
   ]
  },
  {
   "cell_type": "code",
   "execution_count": 4,
   "metadata": {},
   "outputs": [
    {
     "data": {
      "application/vnd.jupyter.widget-view+json": {
       "model_id": "6d9c0a87cac54e5e9bdc15a24417b822",
       "version_major": 2,
       "version_minor": 0
      },
      "text/plain": [
       "Button(description='plot filtered Lama data', icon='check', style=ButtonStyle(), tooltip='Click me')"
      ]
     },
     "metadata": {},
     "output_type": "display_data"
    },
    {
     "data": {
      "image/png": "[encoded data removed]",
      "text/plain": [
       "<Figure size 432x288 with 1 Axes>"
      ]
     },
     "metadata": {
      "needs_background": "light"
     },
     "output_type": "display_data"
    }
   ],
   "source": [
    "display(widgets.plotButton)\n",
    "\n",
    "def plotCbcDist(event):\n",
    "    widgets.clearOutput()\n",
    "    display(widgets.plotButton)\n",
    "    cbcData.plotFilteredData()\n",
    "    \n",
    "widgets.plotButton.on_click(plotCbcDist)"
   ]
  },
  {
   "cell_type": "markdown",
   "metadata": {},
   "source": [
    "## Save affine transformation matrix"
   ]
  },
  {
   "cell_type": "code",
   "execution_count": 5,
   "metadata": {},
   "outputs": [
    {
     "data": {
      "application/vnd.jupyter.widget-view+json": {
       "model_id": "ab85b88766ad460885c2b3b196d3f5b7",
       "version_major": 2,
       "version_minor": 0
      },
      "text/plain": [
       "Text(value='filtered', description='file prefix', placeholder='filtered', style=DescriptionStyle(description_w…"
      ]
     },
     "metadata": {},
     "output_type": "display_data"
    },
    {
     "data": {
      "application/vnd.jupyter.widget-view+json": {
       "model_id": "b295c39aa6404c858adec84dc0ec7f9a",
       "version_major": 2,
       "version_minor": 0
      },
      "text/plain": [
       "Button(description='save filtered Lama data', icon='check', style=ButtonStyle(), tooltip='Click me')"
      ]
     },
     "metadata": {},
     "output_type": "display_data"
    },
    {
     "name": "stdout",
     "output_type": "stream",
     "text": [
      "Filtered dataset written to: E:/Lehre/Praktikanten/Trung\\origin_cbc_roi_filtered.txt\n"
     ]
    }
   ],
   "source": [
    "display(widgets.outFilePrefix, widgets.saveButton)\n",
    "\n",
    "def saveMatrix(event):\n",
    "    widgets.clearOutput()\n",
    "    display(widgets.outFilePrefix, widgets.saveButton)\n",
    "    cbcData.saveFilteredDataFrame(widgets.outFilePrefix.value)\n",
    "    \n",
    "widgets.saveButton.on_click(saveMatrix)"
   ]
  }
 ],
 "metadata": {
  "kernelspec": {
   "display_name": "Python 3",
   "language": "python",
   "name": "python3"
  },
  "language_info": {
   "codemirror_mode": {
    "name": "ipython",
    "version": 3
   },
   "file_extension": ".py",
   "mimetype": "text/x-python",
   "name": "python",
   "nbconvert_exporter": "python",
   "pygments_lexer": "ipython3",
   "version": "3.6.8"
  }
 },
 "nbformat": 4,
 "nbformat_minor": 2
}
